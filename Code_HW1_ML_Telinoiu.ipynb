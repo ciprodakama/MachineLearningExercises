{
  "nbformat": 4,
  "nbformat_minor": 0,
  "metadata": {
    "colab": {
      "name": "HW1 - Telinoiu 1796513 - Classification Malware.ipynb",
      "provenance": [],
      "collapsed_sections": []
    },
    "kernelspec": {
      "name": "python3",
      "display_name": "Python 3"
    }
  },
  "cells": [
    {
      "cell_type": "markdown",
      "metadata": {
        "id": "QyPYD9oXZJiQ"
      },
      "source": [
        "##IMPORT LIBRARIES & MODELS"
      ]
    },
    {
      "cell_type": "code",
      "metadata": {
        "id": "rKEs-ptZ3zOp"
      },
      "source": [
        "import random\n",
        "import pandas as pd\n",
        "import numpy as np\n",
        "import sklearn.metrics \n",
        "import re\n",
        "\n",
        "from sklearn.model_selection import train_test_split, cross_val_score, ShuffleSplit, GridSearchCV\n",
        "from sklearn.feature_extraction.text import *\n",
        "from sklearn.metrics import confusion_matrix, classification_report\n",
        "from sklearn import svm\n",
        "from sklearn import tree\n",
        "from sklearn.linear_model import LogisticRegression, SGDClassifier\n",
        "from sklearn.utils.multiclass import unique_labels"
      ],
      "execution_count": 1,
      "outputs": []
    },
    {
      "cell_type": "markdown",
      "metadata": {
        "id": "0-xUaLSDbc6z"
      },
      "source": [
        "##PERSONAL FUNCTIONS"
      ]
    },
    {
      "cell_type": "code",
      "metadata": {
        "id": "SJ51obG3bbNU"
      },
      "source": [
        "def extract_instr (instr):\n",
        "  pattern = r\"'[a-zA-z]{1,} \"\n",
        "  holder = re.findall(pattern,instr)\n",
        "\n",
        "  for i in range(len(holder)):\n",
        "    holder[i] = re.sub(\"\\W\",\"\",holder[i])\n",
        "  \n",
        "  #print(\"This is temporal holder:\")\n",
        "  #print(holder)\n",
        "\n",
        "  res = \"\"\n",
        "\n",
        "  for i in range(len(holder)):\n",
        "    if (i == len(holder) - 1):\n",
        "      res = res + holder[i] \n",
        "    else :\n",
        "      res = res + holder[i] + \" \"\n",
        "  \n",
        "  #print(\"This is result of extraction: \"+ res)\n",
        "  return res\n",
        "\n",
        "def print_df (df, i):\n",
        "  res = str(i) + \" \" + str(df.loc[i, \"id\"]) + \" \" + df.loc[i, \"semantic\"] + \" \" + df.loc[i, \"lista_asm\"]\n",
        "  return res\n",
        "\n",
        "def cmp_model_pred (model1, model2):\n",
        "    c = 0\n",
        "\n",
        "    cont = {\n",
        "    \"encryption vs math\": 0,\n",
        "    \"encryption vs sort\": 0,\n",
        "    \"math vs sort\": 0,\n",
        "    \"encryption vs string\": 0,\n",
        "    \"math vs string\": 0,\n",
        "    \"sort vs string\": 0,\n",
        "    }\n",
        "\n",
        "    res = []\n",
        "\n",
        "    for i in range(len(model1)):\n",
        "      if (model1[i] != model2[i]):\n",
        "        c += 1\n",
        "        if (((model1[i] == \"encryption\") and (model2[i] == \"math\")) or ((model1[i] == \"math\") and (model2[i] == \"encryption\"))):\n",
        "          cont[\"encryption vs math\"] += 1\n",
        "        elif (((model1[i] == \"encryption\") and (model2[i] == \"sort\")) or ((model1[i] == \"sort\") and (model2[i] == \"encryption\"))):\n",
        "          cont[\"encryption vs sort\"] += 1\n",
        "        elif (((model1[i] == \"math\") and (model2[i] == \"sort\")) or ((model1[i] == \"sort\") and (model2[i] == \"math\"))):\n",
        "          cont[\"math vs sort\"] += 1\n",
        "        elif (((model1[i] == \"encryption\") and (model2[i] == \"string\")) or ((model1[i] == \"string\") and (model2[i] == \"encryption\"))):\n",
        "          cont[\"encryption vs string\"] += 1\n",
        "        elif (((model1[i] == \"math\") and (model2[i] == \"string\")) or ((model1[i] == \"string\") and (model2[i] == \"math\"))):\n",
        "          cont[\"math vs string\"] += 1\n",
        "        elif (((model1[i] == \"sort\") and (model2[i] == \"string\")) or ((model1[i] == \"string\") and (model2[i] == \"sort\"))):\n",
        "          cont[\"sort vs string\"] += 1\n",
        "\n",
        "    res.append(str(c))\n",
        "    res.append(cont)\n",
        "\n",
        "    return res"
      ],
      "execution_count": 2,
      "outputs": []
    },
    {
      "cell_type": "markdown",
      "metadata": {
        "id": "-lvK5DBGZM_3"
      },
      "source": [
        "##DATASET ACQUISITION"
      ]
    },
    {
      "cell_type": "code",
      "metadata": {
        "colab": {
          "base_uri": "https://localhost:8080/",
          "height": 0
        },
        "id": "Z_Dp5CG82TbR",
        "outputId": "a567c9c5-4690-4890-f96e-cddd55f3e1d8"
      },
      "source": [
        "from google.colab import drive\n",
        "drive.mount('/content/drive')"
      ],
      "execution_count": 3,
      "outputs": [
        {
          "output_type": "stream",
          "text": [
            "Mounted at /content/drive\n"
          ],
          "name": "stdout"
        }
      ]
    },
    {
      "cell_type": "code",
      "metadata": {
        "colab": {
          "base_uri": "https://localhost:8080/",
          "height": 0
        },
        "id": "cm3Z_UzY3Eph",
        "outputId": "6d3867fa-fc97-4df2-ccc0-83a10bc55861"
      },
      "source": [
        "!ls \"/content/drive/MyDrive/ColabNotebooks/ML/HW1/noduplicatedataset.json\""
      ],
      "execution_count": 4,
      "outputs": [
        {
          "output_type": "stream",
          "text": [
            "/content/drive/MyDrive/ColabNotebooks/ML/HW1/noduplicatedataset.json\n"
          ],
          "name": "stdout"
        }
      ]
    },
    {
      "cell_type": "code",
      "metadata": {
        "id": "VfT94Yl-1Kri"
      },
      "source": [
        "dataset_path = '/content/drive/MyDrive/ColabNotebooks/ML/HW1/noduplicatedataset.json'\n",
        "testset_path = '/content/drive/MyDrive/ColabNotebooks/ML/HW1/blindtest.json'"
      ],
      "execution_count": 5,
      "outputs": []
    },
    {
      "cell_type": "code",
      "metadata": {
        "id": "CcPBmT_HAALP"
      },
      "source": [
        "df = pd.read_json(dataset_path, lines=True)"
      ],
      "execution_count": 6,
      "outputs": []
    },
    {
      "cell_type": "markdown",
      "metadata": {
        "id": "Z7xQLkbLZSYx"
      },
      "source": [
        "##PRE-PROCESSING"
      ]
    },
    {
      "cell_type": "code",
      "metadata": {
        "id": "yyQh3vfOCuYV",
        "colab": {
          "base_uri": "https://localhost:8080/",
          "height": 0
        },
        "outputId": "fdd83991-741b-4e6f-8586-8acd0048d34e"
      },
      "source": [
        "id = random.randrange(0,len(df.id))\n",
        "print('%d %d %s %s' %(id,df.loc[id, \"id\"],df.loc[id, \"semantic\"],df.loc[id, \"lista_asm\"]))"
      ],
      "execution_count": 7,
      "outputs": [
        {
          "output_type": "stream",
          "text": [
            "2067 13346 string ['jmp qword ptr [rip + 0x21f75a]', 'jmp qword ptr [rip + 0x21f70a]', 'jmp qword ptr [rip + 0x21f702]', 'jmp qword ptr [rip + 0x21f6f2]', 'test rdi, rdi', 'je 0x174', 'push r15', 'push r14', 'push r13', 'push r12', 'push rbp', 'push rbx', 'sub rsp, 0x18', 'mov rbp, qword ptr [rdi + 8]', 'test rbp, rbp', 'je 0x127', 'mov r12d, dword ptr [rdi + 4]', 'test r12d, r12d', 'js 0x10c', 'mov ecx, dword ptr [rdi]', 'cmp r12d, ecx', 'setg dl', 'test ecx, ecx', 'setle al', 'or dl, al', 'jne 0xff', 'test esi, esi', 'jle 0xea', 'xor eax, eax', 'cmp ecx, esi', 'jg 0x98', 'cmp esi, 7', 'mov ebx, 8', 'jg 0xa0', 'xor eax, eax', 'cmp ecx, ebx', 'jge 0x80', 'lea eax, [rcx*8]', 'lea edx, [r12*8]', 'mov r13d, esi', 'mov r15, rdi', 'movsxd rsi, ebx', 'sub eax, ecx', 'cmp eax, edx', 'jl 0x54', 'mov rdi, rsi', 'mov qword ptr [rsp + 8], rsi', 'call 0xffffffffffff3806', 'test rax, rax', 'mov r14, rax', 'mov rsi, qword ptr [rsp + 8]', 'je 0x29', 'test r12d, r12d', 'jne 0x9c', 'mov rdi, rbp', 'call 0xffffffffffff3733', 'jmp 0x1f', 'mov rdi, rbp', 'call 0xffffffffffff37f0', 'test rax, rax', 'mov r14, rax', 'je 0x90', 'movsxd rax, dword ptr [r15 + 4]', 'mov qword ptr [r15 + 8], r14', 'mov dword ptr [r15], ebx', 'mov byte ptr [r14 + rax], 0', 'xor eax, eax', 'add rsp, 0x18', 'pop rbx', 'pop rbp', 'pop r12', 'pop r13', 'pop r14', 'pop r15', 'ret ', 'add rsp, 0x18', 'pop rbx', 'pop rbp', 'pop r12', 'pop r13', 'pop r14', 'pop r15', 'ret ', 'mov ebx, esi', 'shr ebx, 1', 'or ebx, esi', 'mov eax, ebx', 'shr eax, 2', 'or ebx, eax', 'mov eax, ebx', 'shr eax, 4', 'or ebx, eax', 'mov eax, ebx', 'shr eax, 8', 'or ebx, eax', 'mov eax, ebx', 'shr eax, 0x10', 'or ebx, eax', 'add ebx, 1', 'cmp ebx, esi', 'cmovl ebx, esi', 'xor eax, eax', 'cmp ecx, ebx', 'jl 0xffffffffffffff74', 'jmp 0xffffffffffffffba', 'mov eax, 0xffffffff', 'jmp 0xffffffffffffffb6', 'movsxd rdx, r12d', 'mov rsi, rbp', 'mov rdi, rax', 'call 0xffffffffffff3740', 'jmp 0xffffffffffffff5f', 'mov rdi, qword ptr [r15 + 8]', 'movsxd rsi, r13d', 'call 0xffffffffffff3758', 'test rax, rax', 'mov r14, rax', 'je 0xffffffffffffffcc', 'mov ebx, r13d', 'jmp 0xffffffffffffff68', 'or eax, 0xffffffff', 'ret ']\n"
          ],
          "name": "stdout"
        }
      ]
    },
    {
      "cell_type": "code",
      "metadata": {
        "id": "Lx5FLXchgjlK",
        "colab": {
          "base_uri": "https://localhost:8080/",
          "height": 0
        },
        "outputId": "86e9faf3-6dbf-4ec9-d905-6c00570c64c4"
      },
      "source": [
        "print(len(df))"
      ],
      "execution_count": 8,
      "outputs": [
        {
          "output_type": "stream",
          "text": [
            "6073\n"
          ],
          "name": "stdout"
        }
      ]
    },
    {
      "cell_type": "code",
      "metadata": {
        "id": "h19AQL1sBeku",
        "colab": {
          "base_uri": "https://localhost:8080/",
          "height": 0
        },
        "outputId": "ea073500-e671-4faa-8edc-b728d86be8fe"
      },
      "source": [
        "for i in range(len(df)): \n",
        "  df.lista_asm[i] = extract_instr(df.lista_asm[i])\n",
        "\n",
        "print(\"Done!\")"
      ],
      "execution_count": 9,
      "outputs": [
        {
          "output_type": "stream",
          "text": [
            "/usr/local/lib/python3.6/dist-packages/ipykernel_launcher.py:2: SettingWithCopyWarning: \n",
            "A value is trying to be set on a copy of a slice from a DataFrame\n",
            "\n",
            "See the caveats in the documentation: https://pandas.pydata.org/pandas-docs/stable/user_guide/indexing.html#returning-a-view-versus-a-copy\n",
            "  \n"
          ],
          "name": "stderr"
        },
        {
          "output_type": "stream",
          "text": [
            "Done!\n"
          ],
          "name": "stdout"
        }
      ]
    },
    {
      "cell_type": "markdown",
      "metadata": {
        "id": "LLw78l37_pNx"
      },
      "source": [
        "##VECTORIZATION OF \"LISTA_ASM\""
      ]
    },
    {
      "cell_type": "code",
      "metadata": {
        "colab": {
          "base_uri": "https://localhost:8080/",
          "height": 0
        },
        "id": "_NRpfL01_xZN",
        "outputId": "bc68083d-ed99-494b-d7c6-f1702cd1469c"
      },
      "source": [
        "vectorizer_type = \"tfid\" # \"hashing\", \"count\" or \"tfid\"\n",
        "\n",
        "if vectorizer_type == \"hashing\":\n",
        "  vectorizer = HashingVectorizer(stop_words='english') # multivariate\n",
        "elif vectorizer_type == \"count\":\n",
        "  vectorizer = CountVectorizer(stop_words='english') # multinomial\n",
        "elif vectorizer_type == \"tfid\":\n",
        "  vectorizer = TfidfVectorizer(ngram_range=(1,5))\n",
        "\n",
        "X_all = vectorizer.fit_transform(df.lista_asm)\n",
        "y_all = df.semantic\n",
        "\n",
        "print(X_all.shape)\n",
        "print(y_all.shape)"
      ],
      "execution_count": 10,
      "outputs": [
        {
          "output_type": "stream",
          "text": [
            "(6073, 138510)\n",
            "(6073,)\n"
          ],
          "name": "stdout"
        }
      ]
    },
    {
      "cell_type": "markdown",
      "metadata": {
        "id": "nlPCj8pGIzNy"
      },
      "source": [
        "##DATASET SPLIT\n"
      ]
    },
    {
      "cell_type": "code",
      "metadata": {
        "id": "Uhg8uCEvGpEm"
      },
      "source": [
        "X_train, X_test, y_train, y_test = train_test_split(X_all, y_all, test_size=0.333,random_state=117)"
      ],
      "execution_count": 11,
      "outputs": []
    },
    {
      "cell_type": "markdown",
      "metadata": {
        "id": "Io4-Tz2DALdU"
      },
      "source": [
        "##MODELS CREATION"
      ]
    },
    {
      "cell_type": "code",
      "metadata": {
        "id": "szsGvBEwHAnj"
      },
      "source": [
        "model = svm.SVC(kernel='linear', C=1, class_weight='balanced')"
      ],
      "execution_count": 12,
      "outputs": []
    },
    {
      "cell_type": "code",
      "metadata": {
        "id": "o0mnnJSsgOCe"
      },
      "source": [
        "model2 = tree.DecisionTreeClassifier()"
      ],
      "execution_count": 13,
      "outputs": []
    },
    {
      "cell_type": "code",
      "metadata": {
        "id": "PRcrkd5oAUoO"
      },
      "source": [
        "model21 = tree.DecisionTreeClassifier(max_depth=5, class_weight='balanced')"
      ],
      "execution_count": 14,
      "outputs": []
    },
    {
      "cell_type": "code",
      "metadata": {
        "id": "jqUtLSV1gSV-"
      },
      "source": [
        "model3 = LogisticRegression()"
      ],
      "execution_count": 15,
      "outputs": []
    },
    {
      "cell_type": "code",
      "metadata": {
        "id": "1VP2y9qyATaa"
      },
      "source": [
        "model31 = SGDClassifier()"
      ],
      "execution_count": 16,
      "outputs": []
    },
    {
      "cell_type": "markdown",
      "metadata": {
        "id": "LKGZiCTyAWdN"
      },
      "source": [
        "##MODELS FIT"
      ]
    },
    {
      "cell_type": "code",
      "metadata": {
        "id": "0678BbziHEr2",
        "colab": {
          "base_uri": "https://localhost:8080/",
          "height": 0
        },
        "outputId": "de6768c2-3165-42cb-e5cd-8899aade4899"
      },
      "source": [
        "model.fit(X_train, y_train)"
      ],
      "execution_count": 17,
      "outputs": [
        {
          "output_type": "execute_result",
          "data": {
            "text/plain": [
              "SVC(C=1, break_ties=False, cache_size=200, class_weight='balanced', coef0=0.0,\n",
              "    decision_function_shape='ovr', degree=3, gamma='scale', kernel='linear',\n",
              "    max_iter=-1, probability=False, random_state=None, shrinking=True,\n",
              "    tol=0.001, verbose=False)"
            ]
          },
          "metadata": {
            "tags": []
          },
          "execution_count": 17
        }
      ]
    },
    {
      "cell_type": "code",
      "metadata": {
        "colab": {
          "base_uri": "https://localhost:8080/",
          "height": 0
        },
        "id": "S8-M_bS-gh9Q",
        "outputId": "f51dd718-e3ab-42e9-ddc5-cca35f82352a"
      },
      "source": [
        "model2.fit(X_train, y_train)"
      ],
      "execution_count": 18,
      "outputs": [
        {
          "output_type": "execute_result",
          "data": {
            "text/plain": [
              "DecisionTreeClassifier(ccp_alpha=0.0, class_weight=None, criterion='gini',\n",
              "                       max_depth=None, max_features=None, max_leaf_nodes=None,\n",
              "                       min_impurity_decrease=0.0, min_impurity_split=None,\n",
              "                       min_samples_leaf=1, min_samples_split=2,\n",
              "                       min_weight_fraction_leaf=0.0, presort='deprecated',\n",
              "                       random_state=None, splitter='best')"
            ]
          },
          "metadata": {
            "tags": []
          },
          "execution_count": 18
        }
      ]
    },
    {
      "cell_type": "code",
      "metadata": {
        "colab": {
          "base_uri": "https://localhost:8080/",
          "height": 0
        },
        "id": "zJdX7Nny5Vjt",
        "outputId": "e4d4d2bc-c5fb-496d-e420-312a56d53345"
      },
      "source": [
        "model21.fit(X_train, y_train)"
      ],
      "execution_count": 19,
      "outputs": [
        {
          "output_type": "execute_result",
          "data": {
            "text/plain": [
              "DecisionTreeClassifier(ccp_alpha=0.0, class_weight='balanced', criterion='gini',\n",
              "                       max_depth=5, max_features=None, max_leaf_nodes=None,\n",
              "                       min_impurity_decrease=0.0, min_impurity_split=None,\n",
              "                       min_samples_leaf=1, min_samples_split=2,\n",
              "                       min_weight_fraction_leaf=0.0, presort='deprecated',\n",
              "                       random_state=None, splitter='best')"
            ]
          },
          "metadata": {
            "tags": []
          },
          "execution_count": 19
        }
      ]
    },
    {
      "cell_type": "code",
      "metadata": {
        "colab": {
          "base_uri": "https://localhost:8080/",
          "height": 0
        },
        "id": "RYTa55I6giQj",
        "outputId": "3745de0e-b376-4557-f78a-47fc25d1d41a"
      },
      "source": [
        "model3.fit(X_train, y_train)"
      ],
      "execution_count": 20,
      "outputs": [
        {
          "output_type": "execute_result",
          "data": {
            "text/plain": [
              "LogisticRegression(C=1.0, class_weight=None, dual=False, fit_intercept=True,\n",
              "                   intercept_scaling=1, l1_ratio=None, max_iter=100,\n",
              "                   multi_class='auto', n_jobs=None, penalty='l2',\n",
              "                   random_state=None, solver='lbfgs', tol=0.0001, verbose=0,\n",
              "                   warm_start=False)"
            ]
          },
          "metadata": {
            "tags": []
          },
          "execution_count": 20
        }
      ]
    },
    {
      "cell_type": "code",
      "metadata": {
        "colab": {
          "base_uri": "https://localhost:8080/",
          "height": 0
        },
        "id": "pLiWizpm5W_y",
        "outputId": "658af843-dc3d-4294-c288-349c359a7f84"
      },
      "source": [
        "model31.fit(X_train, y_train)"
      ],
      "execution_count": 21,
      "outputs": [
        {
          "output_type": "execute_result",
          "data": {
            "text/plain": [
              "SGDClassifier(alpha=0.0001, average=False, class_weight=None,\n",
              "              early_stopping=False, epsilon=0.1, eta0=0.0, fit_intercept=True,\n",
              "              l1_ratio=0.15, learning_rate='optimal', loss='hinge',\n",
              "              max_iter=1000, n_iter_no_change=5, n_jobs=None, penalty='l2',\n",
              "              power_t=0.5, random_state=None, shuffle=True, tol=0.001,\n",
              "              validation_fraction=0.1, verbose=0, warm_start=False)"
            ]
          },
          "metadata": {
            "tags": []
          },
          "execution_count": 21
        }
      ]
    },
    {
      "cell_type": "markdown",
      "metadata": {
        "id": "9VlzB4bvAZwA"
      },
      "source": [
        "##RUN PREDICTIONS"
      ]
    },
    {
      "cell_type": "code",
      "metadata": {
        "id": "ip4Bx4udHH52"
      },
      "source": [
        "y_pred = model.predict(X_test)"
      ],
      "execution_count": 22,
      "outputs": []
    },
    {
      "cell_type": "code",
      "metadata": {
        "id": "5qC6W1gtg7Hs"
      },
      "source": [
        "y_pred2 = model2.predict(X_test)"
      ],
      "execution_count": 23,
      "outputs": []
    },
    {
      "cell_type": "code",
      "metadata": {
        "id": "oK6ZI5kC5Yau"
      },
      "source": [
        "y_pred21 = model21.predict(X_test)"
      ],
      "execution_count": 24,
      "outputs": []
    },
    {
      "cell_type": "code",
      "metadata": {
        "id": "cKoer3Ktg7Vw"
      },
      "source": [
        "y_pred3 = model3.predict(X_test)"
      ],
      "execution_count": 25,
      "outputs": []
    },
    {
      "cell_type": "code",
      "metadata": {
        "id": "4CU07c3a5Zzm"
      },
      "source": [
        "y_pred31 = model3.predict(X_test)"
      ],
      "execution_count": 26,
      "outputs": []
    },
    {
      "cell_type": "markdown",
      "metadata": {
        "id": "nTVz-jNTAcaE"
      },
      "source": [
        "##MODEL EVALUATION\n",
        "*  SVM *(model 1)*\n",
        "*  DecTree(std) *(model 2)*\n",
        "*  DecTree(limited) *(model 2.1)*\n",
        "*  LogisticRegression *(model 3)*\n",
        "*  SGDClassifier *(model 3.1)*"
      ]
    },
    {
      "cell_type": "code",
      "metadata": {
        "colab": {
          "base_uri": "https://localhost:8080/",
          "height": 0
        },
        "id": "6M1ogchYHLt8",
        "outputId": "d9602fe2-6063-4178-b84b-c392b9fc2e39"
      },
      "source": [
        "acc = model.score(X_test, y_test)    \n",
        "print(\"Accuracy of SVM Model: %.3f\" %acc)"
      ],
      "execution_count": 27,
      "outputs": [
        {
          "output_type": "stream",
          "text": [
            "Accuracy of SVM Model: 0.991\n"
          ],
          "name": "stdout"
        }
      ]
    },
    {
      "cell_type": "code",
      "metadata": {
        "colab": {
          "base_uri": "https://localhost:8080/",
          "height": 0
        },
        "id": "Dj2eyHo-goZd",
        "outputId": "f70f4787-6749-4296-c654-33a353486fea"
      },
      "source": [
        "acc2 = model2.score(X_test, y_test)    \n",
        "print(\"Accuracy of DecTree(std) Model: %.3f\" %acc2)\n",
        "print()\n",
        "acc21 = model21.score(X_test, y_test)    \n",
        "print(\"Accuracy of DecTree(limited) Model: %.3f\" %acc21)"
      ],
      "execution_count": 28,
      "outputs": [
        {
          "output_type": "stream",
          "text": [
            "Accuracy of DecTree(std) Model: 0.973\n",
            "\n",
            "Accuracy of DecTree(limited) Model: 0.931\n"
          ],
          "name": "stdout"
        }
      ]
    },
    {
      "cell_type": "code",
      "metadata": {
        "colab": {
          "base_uri": "https://localhost:8080/",
          "height": 0
        },
        "id": "Woq-2j0ygonZ",
        "outputId": "f2ca765f-9aa7-4782-ff1d-f03a24b5d4fa"
      },
      "source": [
        "acc3 = model3.score(X_test, y_test)    \n",
        "print(\"Accuracy of LogisticRegression Model: %.3f\" %acc3)\n",
        "print()\n",
        "acc31 = model31.score(X_test, y_test)    \n",
        "print(\"Accuracy of SGDClassifier Model: %.3f\" %acc31)"
      ],
      "execution_count": 29,
      "outputs": [
        {
          "output_type": "stream",
          "text": [
            "Accuracy of LogisticRegression Model: 0.987\n",
            "\n",
            "Accuracy of SGDClassifier Model: 0.993\n"
          ],
          "name": "stdout"
        }
      ]
    },
    {
      "cell_type": "code",
      "metadata": {
        "id": "-Pfe-1aVHPEF",
        "colab": {
          "base_uri": "https://localhost:8080/",
          "height": 0
        },
        "outputId": "88a0b6c9-bf56-45fd-c4c4-28fa85cdd958"
      },
      "source": [
        "print(\"Summary of of SVM Model\")\n",
        "print()\n",
        "print(classification_report(y_test, y_pred, digits=3))"
      ],
      "execution_count": 30,
      "outputs": [
        {
          "output_type": "stream",
          "text": [
            "Summary of of SVM Model\n",
            "\n",
            "              precision    recall  f1-score   support\n",
            "\n",
            "  encryption      0.989     0.992     0.990       362\n",
            "        math      0.996     0.991     0.994       799\n",
            "        sort      0.949     0.971     0.960       172\n",
            "      string      0.996     0.994     0.995       690\n",
            "\n",
            "    accuracy                          0.991      2023\n",
            "   macro avg      0.982     0.987     0.985      2023\n",
            "weighted avg      0.991     0.991     0.991      2023\n",
            "\n"
          ],
          "name": "stdout"
        }
      ]
    },
    {
      "cell_type": "code",
      "metadata": {
        "colab": {
          "base_uri": "https://localhost:8080/",
          "height": 0
        },
        "id": "aMlYWSBig_HH",
        "outputId": "0bd69f32-fe8b-4047-de4f-edfab02fff90"
      },
      "source": [
        "print(\"Summary of DecTree(std) Model\")\n",
        "print()\n",
        "print(classification_report(y_test, y_pred2, digits=3))\n",
        "print()\n",
        "print(\"Summary of DecTree(limited) Model\")\n",
        "print()\n",
        "print(classification_report(y_test, y_pred21, digits=3))"
      ],
      "execution_count": 31,
      "outputs": [
        {
          "output_type": "stream",
          "text": [
            "Summary of DecTree(std) Model\n",
            "\n",
            "              precision    recall  f1-score   support\n",
            "\n",
            "  encryption      0.980     0.959     0.969       362\n",
            "        math      0.984     0.992     0.988       799\n",
            "        sort      0.897     0.860     0.878       172\n",
            "      string      0.976     0.987     0.981       690\n",
            "\n",
            "    accuracy                          0.973      2023\n",
            "   macro avg      0.959     0.950     0.954      2023\n",
            "weighted avg      0.973     0.973     0.973      2023\n",
            "\n",
            "\n",
            "Summary of DecTree(limited) Model\n",
            "\n",
            "              precision    recall  f1-score   support\n",
            "\n",
            "  encryption      0.929     0.906     0.917       362\n",
            "        math      1.000     0.954     0.976       799\n",
            "        sort      0.611     0.866     0.716       172\n",
            "      string      0.970     0.933     0.951       690\n",
            "\n",
            "    accuracy                          0.931      2023\n",
            "   macro avg      0.877     0.915     0.890      2023\n",
            "weighted avg      0.944     0.931     0.935      2023\n",
            "\n"
          ],
          "name": "stdout"
        }
      ]
    },
    {
      "cell_type": "code",
      "metadata": {
        "colab": {
          "base_uri": "https://localhost:8080/",
          "height": 0
        },
        "id": "sslLiJ-qg_R7",
        "outputId": "e1f11e43-6d2e-48d4-afc8-ac2a4dc9b7d9"
      },
      "source": [
        "print(\"Summary of LogisticRegression Model\")\n",
        "print()\n",
        "print(classification_report(y_test, y_pred3, digits=3))\n",
        "print()\n",
        "print(\"Summary of SGDClassifier Model\")\n",
        "print()\n",
        "print(classification_report(y_test, y_pred31, digits=3))"
      ],
      "execution_count": 32,
      "outputs": [
        {
          "output_type": "stream",
          "text": [
            "Summary of LogisticRegression Model\n",
            "\n",
            "              precision    recall  f1-score   support\n",
            "\n",
            "  encryption      0.992     0.983     0.988       362\n",
            "        math      0.992     0.991     0.992       799\n",
            "        sort      0.959     0.942     0.950       172\n",
            "      string      0.986     0.996     0.991       690\n",
            "\n",
            "    accuracy                          0.987      2023\n",
            "   macro avg      0.982     0.978     0.980      2023\n",
            "weighted avg      0.987     0.987     0.987      2023\n",
            "\n",
            "\n",
            "Summary of SGDClassifier Model\n",
            "\n",
            "              precision    recall  f1-score   support\n",
            "\n",
            "  encryption      0.992     0.983     0.988       362\n",
            "        math      0.992     0.991     0.992       799\n",
            "        sort      0.959     0.942     0.950       172\n",
            "      string      0.986     0.996     0.991       690\n",
            "\n",
            "    accuracy                          0.987      2023\n",
            "   macro avg      0.982     0.978     0.980      2023\n",
            "weighted avg      0.987     0.987     0.987      2023\n",
            "\n"
          ],
          "name": "stdout"
        }
      ]
    },
    {
      "cell_type": "markdown",
      "metadata": {
        "id": "43ufv3QlBrQU"
      },
      "source": [
        "###CONFUSION MATRIX"
      ]
    },
    {
      "cell_type": "code",
      "metadata": {
        "id": "er9q-wgVHRCd",
        "colab": {
          "base_uri": "https://localhost:8080/",
          "height": 0
        },
        "outputId": "e1f2909a-c6de-4133-fe1e-e0605c0750b9"
      },
      "source": [
        "print(\"SVM Model\")\n",
        "cm = confusion_matrix(y_test, y_pred, sample_weight=None)\n",
        "print(cm)"
      ],
      "execution_count": 33,
      "outputs": [
        {
          "output_type": "stream",
          "text": [
            "SVM Model\n",
            "[[359   2   1   0]\n",
            " [  0 792   5   2]\n",
            " [  3   1 167   1]\n",
            " [  1   0   3 686]]\n"
          ],
          "name": "stdout"
        }
      ]
    },
    {
      "cell_type": "code",
      "metadata": {
        "colab": {
          "base_uri": "https://localhost:8080/",
          "height": 0
        },
        "id": "Iq_7BTtFhWeZ",
        "outputId": "0090ae58-3386-4545-9457-aed6ea2c343e"
      },
      "source": [
        "print(\"DecTree(std) Model\")\n",
        "cm2 = confusion_matrix(y_test, y_pred2, sample_weight=None)\n",
        "print(cm2)\n",
        "print()\n",
        "print(\"DecTree(limited) Model\")\n",
        "cm21 = confusion_matrix(y_test, y_pred21, sample_weight=None)\n",
        "print(cm21)"
      ],
      "execution_count": 34,
      "outputs": [
        {
          "output_type": "stream",
          "text": [
            "DecTree(std) Model\n",
            "[[347   4   7   4]\n",
            " [  0 793   5   1]\n",
            " [  6   6 148  12]\n",
            " [  1   3   5 681]]\n",
            "\n",
            "DecTree(limited) Model\n",
            "[[328   0  26   8]\n",
            " [  1 762  34   2]\n",
            " [ 13   0 149  10]\n",
            " [ 11   0  35 644]]\n"
          ],
          "name": "stdout"
        }
      ]
    },
    {
      "cell_type": "code",
      "metadata": {
        "colab": {
          "base_uri": "https://localhost:8080/",
          "height": 0
        },
        "id": "V_UMFJ92hWrN",
        "outputId": "45205cdd-f79f-45de-edc1-f3446540d954"
      },
      "source": [
        "print(\"LogisticRegression Model\")\n",
        "cm3 = confusion_matrix(y_test, y_pred3, sample_weight=None)\n",
        "print(cm3)\n",
        "print()\n",
        "print(\"SGDClassifier Model\")\n",
        "cm31 = confusion_matrix(y_test, y_pred31, sample_weight=None)\n",
        "print(cm31)"
      ],
      "execution_count": 35,
      "outputs": [
        {
          "output_type": "stream",
          "text": [
            "LogisticRegression Model\n",
            "[[356   3   2   1]\n",
            " [  0 792   4   3]\n",
            " [  3   1 162   6]\n",
            " [  0   2   1 687]]\n",
            "\n",
            "SGDClassifier Model\n",
            "[[356   3   2   1]\n",
            " [  0 792   4   3]\n",
            " [  3   1 162   6]\n",
            " [  0   2   1 687]]\n"
          ],
          "name": "stdout"
        }
      ]
    },
    {
      "cell_type": "markdown",
      "metadata": {
        "id": "DxMiPiogE-f6"
      },
      "source": [
        "###CROSS-VALIDATION SCORE"
      ]
    },
    {
      "cell_type": "code",
      "metadata": {
        "colab": {
          "base_uri": "https://localhost:8080/",
          "height": 0
        },
        "id": "836HjyD2FAnd",
        "outputId": "2c212c1b-c92d-44e7-f986-881638043fcd"
      },
      "source": [
        "print(\"SVM Model\")\n",
        "cv = ShuffleSplit(n_splits=5, test_size=0.333, random_state=15)\n",
        "scores = cross_val_score(model, X_all, y_all, cv=cv)\n",
        "print(scores)\n",
        "print(\"Accuracy: %0.3f (+/- %0.2f)\" % (scores.mean(), scores.std() * 2))"
      ],
      "execution_count": 36,
      "outputs": [
        {
          "output_type": "stream",
          "text": [
            "SVM Model\n",
            "[0.99011369 0.99209095 0.98863075 0.99307958 0.99060801]\n",
            "Accuracy: 0.991 (+/- 0.00)\n"
          ],
          "name": "stdout"
        }
      ]
    },
    {
      "cell_type": "code",
      "metadata": {
        "colab": {
          "base_uri": "https://localhost:8080/",
          "height": 0
        },
        "id": "wjQhSQGzFWlD",
        "outputId": "e6a04bf2-2e49-44e1-e387-308a1e1165da"
      },
      "source": [
        "print(\"DecTree(std) Model\")\n",
        "cv2 = ShuffleSplit(n_splits=5, test_size=0.333, random_state=15)\n",
        "scores2 = cross_val_score(model2, X_all, y_all, cv=cv)\n",
        "print(scores2)\n",
        "print(\"Accuracy: %0.3f (+/- %0.2f)\" % (scores2.mean(), scores2.std() * 2))"
      ],
      "execution_count": 37,
      "outputs": [
        {
          "output_type": "stream",
          "text": [
            "DecTree(std) Model\n",
            "[0.97330697 0.96984676 0.96885813 0.97528423 0.9742956 ]\n",
            "Accuracy: 0.972 (+/- 0.01)\n"
          ],
          "name": "stdout"
        }
      ]
    },
    {
      "cell_type": "code",
      "metadata": {
        "colab": {
          "base_uri": "https://localhost:8080/",
          "height": 0
        },
        "id": "2vpIvUFqFXU6",
        "outputId": "3450eb86-419b-4650-89e7-0aed35695d07"
      },
      "source": [
        "print(\"DecTree(limited) Model\")\n",
        "cv21 = ShuffleSplit(n_splits=5, test_size=0.333, random_state=15)\n",
        "scores21 = cross_val_score(model21, X_all, y_all, cv=cv)\n",
        "print(scores21)\n",
        "print(\"Accuracy: %0.3f (+/- %0.2f)\" % (scores21.mean(), scores21.std() * 2))"
      ],
      "execution_count": 38,
      "outputs": [
        {
          "output_type": "stream",
          "text": [
            "DecTree(limited) Model\n",
            "[0.92436975 0.92881859 0.92684132 0.93030153 0.92634701]\n",
            "Accuracy: 0.927 (+/- 0.00)\n"
          ],
          "name": "stdout"
        }
      ]
    },
    {
      "cell_type": "code",
      "metadata": {
        "colab": {
          "base_uri": "https://localhost:8080/",
          "height": 0
        },
        "id": "KBTvOTFoFW8L",
        "outputId": "57d54488-8b8a-4f8a-fc0d-bd2dde3a23b8"
      },
      "source": [
        "print(\"LogisticRegression Model\")\n",
        "cv3 = ShuffleSplit(n_splits=5, test_size=0.333, random_state=15)\n",
        "scores3 = cross_val_score(model3, X_all, y_all, cv=cv)\n",
        "print(scores3)\n",
        "print(\"Accuracy: %0.3f (+/- %0.2f)\" % (scores3.mean(), scores3.std() * 2))"
      ],
      "execution_count": 39,
      "outputs": [
        {
          "output_type": "stream",
          "text": [
            "LogisticRegression Model\n",
            "[0.98220465 0.9871478  0.98368759 0.98961938 0.98319328]\n",
            "Accuracy: 0.985 (+/- 0.01)\n"
          ],
          "name": "stdout"
        }
      ]
    },
    {
      "cell_type": "code",
      "metadata": {
        "colab": {
          "base_uri": "https://localhost:8080/",
          "height": 0
        },
        "id": "2D_PPmQTFXr8",
        "outputId": "2b8fdac8-8b86-466a-e12d-6d3b891cd502"
      },
      "source": [
        "print(\"SGDClassifier Model\")\n",
        "cv31 = ShuffleSplit(n_splits=5, test_size=0.333, random_state=15)\n",
        "scores31 = cross_val_score(model31, X_all, y_all, cv=cv)\n",
        "print(scores31)\n",
        "print(\"Accuracy: %0.3f (+/- %0.2f)\" % (scores31.mean(), scores31.std() * 2))"
      ],
      "execution_count": 40,
      "outputs": [
        {
          "output_type": "stream",
          "text": [
            "SGDClassifier Model\n",
            "[0.99406822 0.99505685 0.98912506 0.99456253 0.99209095]\n",
            "Accuracy: 0.993 (+/- 0.00)\n"
          ],
          "name": "stdout"
        }
      ]
    },
    {
      "cell_type": "markdown",
      "metadata": {
        "id": "wLCgINVNkuNr"
      },
      "source": [
        "##PREDICTION ON BLIND TEST"
      ]
    },
    {
      "cell_type": "code",
      "metadata": {
        "id": "bE66WtkkkupT"
      },
      "source": [
        "df2 = pd.read_json('/content/drive/MyDrive/ColabNotebooks/ML/HW1/blindtest.json', lines=True)"
      ],
      "execution_count": 41,
      "outputs": []
    },
    {
      "cell_type": "code",
      "metadata": {
        "colab": {
          "base_uri": "https://localhost:8080/",
          "height": 0
        },
        "id": "KRdyYwqglBvP",
        "outputId": "0893193f-a45d-4bf3-9b77-493a88da856a"
      },
      "source": [
        "for i in range(len(df2)): \n",
        "  df2.lista_asm[i] = extract_instr(df2.lista_asm[i])\n",
        "\n",
        "print(\"Done!\")"
      ],
      "execution_count": 42,
      "outputs": [
        {
          "output_type": "stream",
          "text": [
            "/usr/local/lib/python3.6/dist-packages/ipykernel_launcher.py:2: SettingWithCopyWarning: \n",
            "A value is trying to be set on a copy of a slice from a DataFrame\n",
            "\n",
            "See the caveats in the documentation: https://pandas.pydata.org/pandas-docs/stable/user_guide/indexing.html#returning-a-view-versus-a-copy\n",
            "  \n"
          ],
          "name": "stderr"
        },
        {
          "output_type": "stream",
          "text": [
            "Done!\n"
          ],
          "name": "stdout"
        }
      ]
    },
    {
      "cell_type": "code",
      "metadata": {
        "id": "2vzuMrmjiNaT"
      },
      "source": [
        "xnew = vectorizer.transform(df2.lista_asm)"
      ],
      "execution_count": 43,
      "outputs": []
    },
    {
      "cell_type": "code",
      "metadata": {
        "id": "YL5M_4vll7VK"
      },
      "source": [
        "ynew = model.predict(xnew)\n",
        "ynew2 = model2.predict(xnew)\n",
        "ynew21 = model21.predict(xnew)\n",
        "ynew3 = model3.predict(xnew)\n",
        "ynew31 = model31.predict(xnew)"
      ],
      "execution_count": 44,
      "outputs": []
    },
    {
      "cell_type": "code",
      "metadata": {
        "id": "262Rdh8QNY0s"
      },
      "source": [
        "with open('blindres.txt', 'w') as f:\n",
        "    for item in ynew31:\n",
        "        f.write(\"%s\\n\" % item)"
      ],
      "execution_count": null,
      "outputs": []
    },
    {
      "cell_type": "markdown",
      "metadata": {
        "id": "lWY1HPP5CqBb"
      },
      "source": [
        "##COMPARISON BETWEEN MODELS BLIND PREDICTION\n",
        "\n",
        "*  SVM (model 1)\n",
        "*  DecTree(std) (model 2)\n",
        "*  DecTree(limited) (model 2.1)\n",
        "*  LogisticRegression (model 3)\n",
        "*  SGDClassifier (model 3.1)"
      ]
    },
    {
      "cell_type": "code",
      "metadata": {
        "colab": {
          "base_uri": "https://localhost:8080/",
          "height": 0
        },
        "id": "pfUO4CSrisOI",
        "outputId": "9bc28811-8bac-4473-e7f6-9d107aef9913"
      },
      "source": [
        "cmp12 = cmp_model_pred(ynew, ynew2)\n",
        "\n",
        "print(\"Total differences SVM vs DecTree(std): \" + cmp12[0])\n",
        "print(cmp12[1])"
      ],
      "execution_count": 45,
      "outputs": [
        {
          "output_type": "stream",
          "text": [
            "Total differences SVM vs DecTree(std): 42\n",
            "{'encryption vs math': 5, 'encryption vs sort': 6, 'math vs sort': 16, 'encryption vs string': 1, 'math vs string': 1, 'sort vs string': 13}\n"
          ],
          "name": "stdout"
        }
      ]
    },
    {
      "cell_type": "code",
      "metadata": {
        "colab": {
          "base_uri": "https://localhost:8080/",
          "height": 0
        },
        "id": "Nm58NTrBkWID",
        "outputId": "ea64fba6-41e1-455a-c8ac-7e68fdd1b98a"
      },
      "source": [
        "cmp13 = cmp_model_pred(ynew, ynew3)\n",
        "\n",
        "print(\"Total differences SVM vs LogisticRegression: \" + cmp13[0])\n",
        "print(cmp13[1])"
      ],
      "execution_count": 46,
      "outputs": [
        {
          "output_type": "stream",
          "text": [
            "Total differences SVM vs LogisticRegression: 32\n",
            "{'encryption vs math': 3, 'encryption vs sort': 6, 'math vs sort': 12, 'encryption vs string': 2, 'math vs string': 2, 'sort vs string': 7}\n"
          ],
          "name": "stdout"
        }
      ]
    },
    {
      "cell_type": "code",
      "metadata": {
        "colab": {
          "base_uri": "https://localhost:8080/",
          "height": 0
        },
        "id": "XYNuIroelnvF",
        "outputId": "9c1fc868-3d8c-4f61-eb8c-1a0ac05796f3"
      },
      "source": [
        "cmp23 = cmp_model_pred(ynew2, ynew3)\n",
        "\n",
        "print(\"Total differences DecTree(std) vs LogisticRegression: \" + cmp23[0])\n",
        "print(cmp23[1])"
      ],
      "execution_count": 47,
      "outputs": [
        {
          "output_type": "stream",
          "text": [
            "Total differences DecTree(std) vs LogisticRegression: 57\n",
            "{'encryption vs math': 4, 'encryption vs sort': 12, 'math vs sort': 21, 'encryption vs string': 3, 'math vs string': 6, 'sort vs string': 11}\n"
          ],
          "name": "stdout"
        }
      ]
    },
    {
      "cell_type": "code",
      "metadata": {
        "colab": {
          "base_uri": "https://localhost:8080/",
          "height": 0
        },
        "id": "xux2I3t7yI8c",
        "outputId": "1a6bc843-decc-453d-f785-01840e0bcf77"
      },
      "source": [
        "cmp22 = cmp_model_pred(ynew2, ynew21)\n",
        "\n",
        "print(\"Total differences DecTree(std) vs DecTree(limited): \" + cmp22[0])\n",
        "print(cmp22[1])"
      ],
      "execution_count": 48,
      "outputs": [
        {
          "output_type": "stream",
          "text": [
            "Total differences DecTree(std) vs DecTree(limited): 104\n",
            "{'encryption vs math': 6, 'encryption vs sort': 23, 'math vs sort': 22, 'encryption vs string': 16, 'math vs string': 5, 'sort vs string': 32}\n"
          ],
          "name": "stdout"
        }
      ]
    },
    {
      "cell_type": "code",
      "metadata": {
        "colab": {
          "base_uri": "https://localhost:8080/",
          "height": 0
        },
        "id": "1w9olfG94JMq",
        "outputId": "fdcafeb2-7a05-4a92-828e-328a316fa5db"
      },
      "source": [
        "cmp33 = cmp_model_pred(ynew3, ynew31)\n",
        "\n",
        "print(\"Total differences LogisticRegression vs SGDClassifier: \" + cmp33[0])\n",
        "print(cmp33[1])"
      ],
      "execution_count": 49,
      "outputs": [
        {
          "output_type": "stream",
          "text": [
            "Total differences LogisticRegression vs SGDClassifier: 37\n",
            "{'encryption vs math': 2, 'encryption vs sort': 6, 'math vs sort': 20, 'encryption vs string': 2, 'math vs string': 3, 'sort vs string': 4}\n"
          ],
          "name": "stdout"
        }
      ]
    },
    {
      "cell_type": "code",
      "metadata": {
        "colab": {
          "base_uri": "https://localhost:8080/",
          "height": 0
        },
        "id": "hKbrGkSb4Phq",
        "outputId": "bc6468c4-efbd-40af-a0f8-7afb95a94152"
      },
      "source": [
        "cmp131 = cmp_model_pred(ynew, ynew31)\n",
        "\n",
        "print(\"Total differences SVM vs SGDClassifier: \" + cmp131[0])\n",
        "print(cmp131[1])"
      ],
      "execution_count": 50,
      "outputs": [
        {
          "output_type": "stream",
          "text": [
            "Total differences SVM vs SGDClassifier: 18\n",
            "{'encryption vs math': 3, 'encryption vs sort': 0, 'math vs sort': 13, 'encryption vs string': 0, 'math vs string': 0, 'sort vs string': 2}\n"
          ],
          "name": "stdout"
        }
      ]
    },
    {
      "cell_type": "code",
      "metadata": {
        "colab": {
          "base_uri": "https://localhost:8080/",
          "height": 0
        },
        "id": "vllP4vozuxOU",
        "outputId": "ed3d9574-71cb-468a-e69e-6ee052a195d6"
      },
      "source": [
        "#WITH NGRAM == (1,5)\n",
        "print(\"SVM vs DecTree(std)\")\n",
        "print(cmp12[1])\n",
        "print()\n",
        "print(\"SVM vs LogisticRegression\")\n",
        "print(cmp13[1])\n",
        "print()\n",
        "print(\"DecTree(std) vs LogisticRegression\")\n",
        "print(cmp23[1])\n",
        "print()\n",
        "print(\"DecTree(std) vs DecTree(limited)\")\n",
        "print(cmp22[1])\n",
        "print()\n",
        "print(\"LogisticRegression vs SGDClassifier\")\n",
        "print(cmp33[1])\n",
        "print()\n",
        "print(\"SVM vs SGDClassifier\")\n",
        "print(cmp131[1])"
      ],
      "execution_count": 51,
      "outputs": [
        {
          "output_type": "stream",
          "text": [
            "SVM vs DecTree(std)\n",
            "{'encryption vs math': 5, 'encryption vs sort': 6, 'math vs sort': 16, 'encryption vs string': 1, 'math vs string': 1, 'sort vs string': 13}\n",
            "\n",
            "SVM vs LogisticRegression\n",
            "{'encryption vs math': 3, 'encryption vs sort': 6, 'math vs sort': 12, 'encryption vs string': 2, 'math vs string': 2, 'sort vs string': 7}\n",
            "\n",
            "DecTree(std) vs LogisticRegression\n",
            "{'encryption vs math': 4, 'encryption vs sort': 12, 'math vs sort': 21, 'encryption vs string': 3, 'math vs string': 6, 'sort vs string': 11}\n",
            "\n",
            "DecTree(std) vs DecTree(limited)\n",
            "{'encryption vs math': 6, 'encryption vs sort': 23, 'math vs sort': 22, 'encryption vs string': 16, 'math vs string': 5, 'sort vs string': 32}\n",
            "\n",
            "LogisticRegression vs SGDClassifier\n",
            "{'encryption vs math': 2, 'encryption vs sort': 6, 'math vs sort': 20, 'encryption vs string': 2, 'math vs string': 3, 'sort vs string': 4}\n",
            "\n",
            "SVM vs SGDClassifier\n",
            "{'encryption vs math': 3, 'encryption vs sort': 0, 'math vs sort': 13, 'encryption vs string': 0, 'math vs string': 0, 'sort vs string': 2}\n"
          ],
          "name": "stdout"
        }
      ]
    },
    {
      "cell_type": "markdown",
      "metadata": {
        "id": "RGYxLjrKwjok"
      },
      "source": [
        "###RECAP WITH NGRAM == 1\n",
        "```\n",
        "SVM vs DecTree(std)\n",
        "{'encryption vs math': 5, 'encryption vs sort': 16, 'math vs sort': 21, 'encryption vs string': 0, 'math vs string': 1, 'sort vs string': 29}\n",
        "\n",
        "SVM vs LogisticRegression\n",
        "{'encryption vs math': 4, 'encryption vs sort': 9, 'math vs sort': 3, 'encryption vs string': 1, 'math vs string': 0, 'sort vs string': 61}\n",
        "\n",
        "DecTree(std) vs LogisticRegression\n",
        "{'encryption vs math': 2, 'encryption vs sort': 16, 'math vs sort': 13, 'encryption vs string': 1, 'math vs string': 11, 'sort vs string': 56}\n",
        "\n",
        "DecTree(std) vs DecTree(limited)\n",
        "{'encryption vs math': 10, 'encryption vs sort': 21, 'math vs sort': 20, 'encryption vs string': 16, 'math vs string': 4, 'sort vs string': 56}\n",
        "\n",
        "LogisticRegression vs SGDClassifier\n",
        "{'encryption vs math': 3, 'encryption vs sort': 5, 'math vs sort': 4, 'encryption vs string': 2, 'math vs string': 0, 'sort vs string': 31}\n",
        "\n",
        "SVM vs SGDClassifier\n",
        "{'encryption vs math': 1, 'encryption vs sort': 9, 'math vs sort': 3, 'encryption vs string': 2, 'math vs string': 0, 'sort vs string': 45}\n",
        "```\n",
        "\n",
        "\n",
        "\n"
      ]
    },
    {
      "cell_type": "markdown",
      "metadata": {
        "id": "7b4-mwuBw60s"
      },
      "source": [
        "###RECAP WITH NGRAM == (1,5)\n",
        "```\n",
        "SVM vs DecTree(std)\n",
        "{'encryption vs math': 5, 'encryption vs sort': 6, 'math vs sort': 16, 'encryption vs string': 1, 'math vs string': 1, 'sort vs string': 13}\n",
        "\n",
        "SVM vs LogisticRegression\n",
        "{'encryption vs math': 3, 'encryption vs sort': 6, 'math vs sort': 12, 'encryption vs string': 2, 'math vs string': 2, 'sort vs string': 7}\n",
        "\n",
        "DecTree(std) vs LogisticRegression\n",
        "{'encryption vs math': 4, 'encryption vs sort': 12, 'math vs sort': 21, 'encryption vs string': 3, 'math vs string': 6, 'sort vs string': 11}\n",
        "\n",
        "DecTree(std) vs DecTree(limited)\n",
        "{'encryption vs math': 6, 'encryption vs sort': 23, 'math vs sort': 22, 'encryption vs string': 16, 'math vs string': 5, 'sort vs string': 32}\n",
        "\n",
        "LogisticRegression vs SGDClassifier\n",
        "{'encryption vs math': 2, 'encryption vs sort': 6, 'math vs sort': 20, 'encryption vs string': 2, 'math vs string': 3, 'sort vs string': 4}\n",
        "\n",
        "SVM vs SGDClassifier\n",
        "{'encryption vs math': 3, 'encryption vs sort': 0, 'math vs sort': 13, 'encryption vs string': 0, 'math vs string': 0, 'sort vs string': 2}\n",
        "```\n",
        "\n",
        "\n",
        "\n"
      ]
    }
  ]
}